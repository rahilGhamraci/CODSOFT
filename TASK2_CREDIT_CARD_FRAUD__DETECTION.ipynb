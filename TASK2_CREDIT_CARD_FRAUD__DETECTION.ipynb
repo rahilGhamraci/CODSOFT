{
  "nbformat": 4,
  "nbformat_minor": 0,
  "metadata": {
    "colab": {
      "provenance": []
    },
    "kernelspec": {
      "name": "python3",
      "display_name": "Python 3"
    },
    "language_info": {
      "name": "python"
    }
  },
  "cells": [
    {
      "cell_type": "code",
      "execution_count": null,
      "metadata": {
        "id": "RMHPDXs5daeC"
      },
      "outputs": [],
      "source": [
        "import numpy as np\n",
        "import pandas as pd"
      ]
    },
    {
      "cell_type": "markdown",
      "source": [
        "# **Data Prep**"
      ],
      "metadata": {
        "id": "7rPMxR0K7EWj"
      }
    },
    {
      "cell_type": "markdown",
      "source": [
        "**Reading the data**"
      ],
      "metadata": {
        "id": "c8Zz3FpH6rr5"
      }
    },
    {
      "cell_type": "code",
      "source": [
        "df = pd.read_csv('fraudTrain.csv', encoding='latin-1')\n",
        "df.shape"
      ],
      "metadata": {
        "colab": {
          "base_uri": "https://localhost:8080/"
        },
        "id": "5DMBMEC0fRQn",
        "outputId": "c6597203-f501-4b24-f418-d2268e1b528a"
      },
      "execution_count": null,
      "outputs": [
        {
          "output_type": "execute_result",
          "data": {
            "text/plain": [
              "(1296675, 23)"
            ]
          },
          "metadata": {},
          "execution_count": 2
        }
      ]
    },
    {
      "cell_type": "code",
      "source": [
        "y = df.iloc[:, -1]\n",
        "print(y.value_counts())"
      ],
      "metadata": {
        "colab": {
          "base_uri": "https://localhost:8080/"
        },
        "id": "E5v4HILVgyRm",
        "outputId": "a6e64f2b-f08b-4949-ddea-e780d3172270"
      },
      "execution_count": null,
      "outputs": [
        {
          "output_type": "stream",
          "name": "stdout",
          "text": [
            "is_fraud\n",
            "0    1289169\n",
            "1       7506\n",
            "Name: count, dtype: int64\n"
          ]
        }
      ]
    },
    {
      "cell_type": "code",
      "source": [
        "print(df.iloc[:, -1].apply(type).value_counts())"
      ],
      "metadata": {
        "colab": {
          "base_uri": "https://localhost:8080/"
        },
        "id": "DLoD0g5EkYUt",
        "outputId": "4bf782fd-1c5e-43b6-fcee-9a7a2cbf1e04"
      },
      "execution_count": null,
      "outputs": [
        {
          "output_type": "stream",
          "name": "stdout",
          "text": [
            "is_fraud\n",
            "<class 'int'>    1296675\n",
            "Name: count, dtype: int64\n"
          ]
        }
      ]
    },
    {
      "cell_type": "code",
      "source": [
        "print(df.columns)"
      ],
      "metadata": {
        "colab": {
          "base_uri": "https://localhost:8080/"
        },
        "id": "8OiE0vpYn0R9",
        "outputId": "796c6794-d143-4236-b0bd-dfdaf297793e"
      },
      "execution_count": null,
      "outputs": [
        {
          "output_type": "stream",
          "name": "stdout",
          "text": [
            "Index(['Unnamed: 0', 'trans_date_trans_time', 'cc_num', 'merchant', 'category',\n",
            "       'amt', 'first', 'last', 'gender', 'street', 'city', 'state', 'zip',\n",
            "       'lat', 'long', 'city_pop', 'job', 'dob', 'trans_num', 'unix_time',\n",
            "       'merch_lat', 'merch_long', 'is_fraud'],\n",
            "      dtype='object')\n"
          ]
        }
      ]
    },
    {
      "cell_type": "markdown",
      "source": [
        "**Features selction**"
      ],
      "metadata": {
        "id": "A8o5cYSI6xJe"
      }
    },
    {
      "cell_type": "code",
      "source": [
        "import pandas as pd\n",
        "import numpy as np\n",
        "from sklearn.preprocessing import OneHotEncoder, StandardScaler\n",
        "from sklearn.model_selection import train_test_split\n",
        "\n",
        "\n",
        "df['transaction_hour'] = pd.to_datetime(df['trans_date_trans_time']).dt.hour\n",
        "df['day_of_week'] = pd.to_datetime(df['trans_date_trans_time']).dt.dayofweek\n",
        "df['transaction_amount_log'] = np.log(df['amt'] + 1)\n",
        "\n",
        "\n",
        "df = pd.get_dummies(df, columns=['merchant', 'category', 'gender'], drop_first=True)\n",
        "\n",
        "\n",
        "scaler = StandardScaler()\n",
        "df[['amt', 'unix_time', 'merch_lat', 'merch_long']] = scaler.fit_transform(df[['amt', 'unix_time', 'merch_lat', 'merch_long']])\n",
        "\n",
        "\n",
        "selected_features = ['transaction_hour', 'day_of_week', 'transaction_amount_log', 'city_pop', 'cc_num', 'merch_lat', 'merch_long']\n",
        "X = df[selected_features]"
      ],
      "metadata": {
        "id": "8jb5-5pdmuzv"
      },
      "execution_count": null,
      "outputs": []
    },
    {
      "cell_type": "code",
      "source": [
        "print(X.shape)\n",
        "print(y.shape)\n",
        "print(X.head())  # If X is a DataFrame, otherwise print(X[:5])\n",
        "print(y[:5])"
      ],
      "metadata": {
        "colab": {
          "base_uri": "https://localhost:8080/"
        },
        "id": "0a3VZ2EEohnv",
        "outputId": "c3064c31-5969-4868-b917-31ab470431c4"
      },
      "execution_count": null,
      "outputs": [
        {
          "output_type": "stream",
          "name": "stdout",
          "text": [
            "(1296675, 7)\n",
            "(1296675,)\n",
            "   transaction_hour  day_of_week  transaction_amount_log  city_pop  \\\n",
            "0                 0            1                1.786747      3495   \n",
            "1                 0            1                4.684259       149   \n",
            "2                 0            1                5.398660      4154   \n",
            "3                 0            1                3.828641      1939   \n",
            "4                 0            1                3.760269        99   \n",
            "\n",
            "             cc_num  merch_lat  merch_long  \n",
            "0  2703186189652095  -0.494354    0.593864  \n",
            "1      630423337322   2.078699   -2.030341  \n",
            "2    38859492057661   0.902849   -1.592323  \n",
            "3  3534093764340240   1.662886   -1.621848  \n",
            "4   375534208663984   0.026941    0.841909  \n",
            "0    0\n",
            "1    0\n",
            "2    0\n",
            "3    0\n",
            "4    0\n",
            "Name: is_fraud, dtype: int64\n"
          ]
        }
      ]
    },
    {
      "cell_type": "markdown",
      "source": [
        "# **Random Forest Model**"
      ],
      "metadata": {
        "id": "VDiVXCjT68n0"
      }
    },
    {
      "cell_type": "code",
      "source": [
        "from imblearn.over_sampling import SMOTE\n",
        "import numpy as np\n",
        "\n",
        "smote = SMOTE(random_state=42)\n",
        "X, y = smote.fit_resample(X, y)\n",
        "\n",
        "\n",
        "X = np.clip(X, a_min=0, a_max=None)"
      ],
      "metadata": {
        "id": "kUcQkwI_T6oL"
      },
      "execution_count": null,
      "outputs": []
    },
    {
      "cell_type": "code",
      "source": [
        "from sklearn.ensemble import RandomForestClassifier\n",
        "from sklearn.model_selection import train_test_split\n",
        "from sklearn.metrics import accuracy_score, classification_report\n",
        "\n",
        "X_train, X_test, y_train, y_test = train_test_split(X, y, test_size=0.2, random_state=42)\n",
        "\n",
        "rf_model = RandomForestClassifier(class_weight='balanced', random_state=42)\n",
        "rf_model.fit(X_train, y_train)\n",
        "\n",
        "# Predict and evaluate\n",
        "y_pred_rf = rf_model.predict(X_test)\n",
        "print(classification_report(y_test, y_pred_rf, zero_division=1))\n"
      ],
      "metadata": {
        "colab": {
          "base_uri": "https://localhost:8080/"
        },
        "id": "yEdwpRAfQIcW",
        "outputId": "7a50f3e6-3016-4764-ec3e-cce12dbc7e81"
      },
      "execution_count": null,
      "outputs": [
        {
          "output_type": "stream",
          "name": "stdout",
          "text": [
            "              precision    recall  f1-score   support\n",
            "\n",
            "           0       0.99      0.98      0.99    257186\n",
            "           1       0.98      0.99      0.99    258482\n",
            "\n",
            "    accuracy                           0.99    515668\n",
            "   macro avg       0.99      0.99      0.99    515668\n",
            "weighted avg       0.99      0.99      0.99    515668\n",
            "\n"
          ]
        }
      ]
    },
    {
      "cell_type": "markdown",
      "source": [
        "# **Regression Model From Scratch**"
      ],
      "metadata": {
        "id": "1mJ1GSsN7KjC"
      }
    },
    {
      "cell_type": "code",
      "source": [
        "def Sigmoid(z):\n",
        "\n",
        "    sig = 1 / ( 1 + np.exp(-1*z) )\n",
        "    return sig"
      ],
      "metadata": {
        "id": "iOjT3WO5r5Ii"
      },
      "execution_count": null,
      "outputs": []
    },
    {
      "cell_type": "code",
      "source": [
        "def computeCostRegularise(X, y, theta,lamda_):\n",
        "    n = X.shape[0]\n",
        "    h = Sigmoid(np.matmul(X, theta))\n",
        "    regularisation= np.sum(pow(theta[1:],2)) * (lamda_ / (2*n ))\n",
        "    cost = -np.mean(y * np.log(h) + (1 - y) * np.log(1 - h)) + regularisation\n",
        "    return cost"
      ],
      "metadata": {
        "id": "lNYFfh4Hr8XY"
      },
      "execution_count": null,
      "outputs": []
    },
    {
      "cell_type": "code",
      "source": [
        "def is_close_to_zero(nombre, tolerance=0.00000000000001):\n",
        "    return abs(nombre) <= tolerance"
      ],
      "metadata": {
        "id": "f2155zNPr_iM"
      },
      "execution_count": null,
      "outputs": []
    },
    {
      "cell_type": "code",
      "source": [
        "def lrCostFunction (X, y, initial_theta, alpha, MaxIter,lambda_):\n",
        "\n",
        "    n = X.shape[0]\n",
        "    cost_list = []\n",
        "    theta = initial_theta\n",
        "    costi = computeCostRegularise(X, y, theta,lambda_)\n",
        "    nb=MaxIter\n",
        "    while True:\n",
        "      d = np.zeros((X.shape[1], 1))\n",
        "      h = Sigmoid(np.matmul(X, theta))\n",
        "\n",
        "      d =  np.dot(X.T, (h - np.reshape(y, h.shape))) / n\n",
        "\n",
        "      theta_prime_list = []\n",
        "      for j in range (theta.shape[0]):\n",
        "        theta_prime_list.append(theta[j][0] - alpha * ( d[j][0]) + (lambda_ * theta[j][0]  /n ) )\n",
        "\n",
        "      for j in range (theta.shape[0]):\n",
        "         theta[j][0] = theta_prime_list[j]\n",
        "\n",
        "      costj = computeCostRegularise(X, y, theta,lambda_)\n",
        "      cost_list.append(costj)\n",
        "\n",
        "      nb -= 1\n",
        "      if nb ==0 or is_close_to_zero(abs(costi - costj)):\n",
        "        break\n",
        "      else:\n",
        "        costi=costj\n",
        "\n",
        "    return theta,cost_list\n"
      ],
      "metadata": {
        "id": "4xaP12TjsCfC"
      },
      "execution_count": null,
      "outputs": []
    },
    {
      "cell_type": "code",
      "source": [
        "def predictOnveVsAll (all_theta, X):\n",
        "    y_pred=np.zeros((X.shape[0], 1));\n",
        "    for i in range(X.shape[0]):\n",
        "      max_proba=0\n",
        "      for j in range(all_theta.shape[0]):\n",
        "        proba = Sigmoid(np.matmul(X[i][:],all_theta[j][:].T))\n",
        "        if (proba > max_proba):\n",
        "          max_proba=proba\n",
        "          predected_calsse=j\n",
        "      y_pred[i]=predected_calsse\n",
        "\n",
        "    return y_pred"
      ],
      "metadata": {
        "id": "QwdchXjXsGZP"
      },
      "execution_count": null,
      "outputs": []
    },
    {
      "cell_type": "code",
      "source": [
        "classes= np.unique(y)\n",
        "number_classes=classes.shape[0]\n",
        "all_theta = np.zeros((number_classes, X.shape[1]));\n",
        "all_theta.shape"
      ],
      "metadata": {
        "colab": {
          "base_uri": "https://localhost:8080/"
        },
        "id": "MluEIpLFsJDW",
        "outputId": "67917c58-94d1-47a9-f837-c773f73fcb5a"
      },
      "execution_count": null,
      "outputs": [
        {
          "output_type": "execute_result",
          "data": {
            "text/plain": [
              "(2, 7)"
            ]
          },
          "metadata": {},
          "execution_count": 19
        }
      ]
    },
    {
      "cell_type": "code",
      "source": [
        "X = np.array(X)\n",
        "y = np.array(y)"
      ],
      "metadata": {
        "id": "j65JGFzgux2U"
      },
      "execution_count": null,
      "outputs": []
    },
    {
      "cell_type": "code",
      "source": [
        "MaxIter= 1000\n",
        "lambda_= 0.1\n",
        "alpha = 0.01\n",
        "\n",
        "initial_theta=np.zeros((X.shape[1], 1));\n",
        "for i in range (number_classes):\n",
        "     # call to each classifier\n",
        "     theta, costs = lrCostFunction(X[:5000, :],(y[:5000]==classes[i]).astype(int),initial_theta,alpha, MaxIter,lambda_)\n",
        "     theta_reshaped = theta.flatten()\n",
        "     all_theta[i, :] = theta_reshaped"
      ],
      "metadata": {
        "id": "6Thp6WZksL7J"
      },
      "execution_count": null,
      "outputs": []
    },
    {
      "cell_type": "code",
      "source": [
        "y_pred = predictOnveVsAll(all_theta, X_test)"
      ],
      "metadata": {
        "id": "E1pnlpX7sS3n"
      },
      "execution_count": null,
      "outputs": []
    },
    {
      "cell_type": "code",
      "source": [
        "accuracy = np.mean(y_test==y_pred)*100\n",
        "accuracy\n"
      ],
      "metadata": {
        "colab": {
          "base_uri": "https://localhost:8080/"
        },
        "id": "UfiiXY8LsV9Z",
        "outputId": "83ffefed-d294-4a0e-a3ff-b7d1aa5fae0d"
      },
      "execution_count": null,
      "outputs": [
        {
          "output_type": "execute_result",
          "data": {
            "text/plain": [
              "99.56"
            ]
          },
          "metadata": {},
          "execution_count": 16
        }
      ]
    }
  ]
}